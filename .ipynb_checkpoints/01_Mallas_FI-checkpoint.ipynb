{
 "cells": [
  {
   "cell_type": "code",
   "execution_count": 1,
   "id": "59f44449",
   "metadata": {},
   "outputs": [],
   "source": [
    "import sympy as sym\n",
    "from sympy import MatrixSymbol, Matrix, Identity\n",
    "\n",
    "sym.init_printing()\n",
    "%matplotlib inline\n",
    "\n",
    "import numpy as np"
   ]
  },
  {
   "cell_type": "markdown",
   "id": "1e0682a7",
   "metadata": {},
   "source": [
    "# CIRCUITOS ELÉCTRICOS\n",
    "\n",
    "Profesor: Jairo Alberto Cuéllar Guarnizo  \n",
    "Programa: Ingeniería en Automatización y Control"
   ]
  },
  {
   "cell_type": "markdown",
   "id": "bea6436d",
   "metadata": {},
   "source": [
    "# Análisis de Circuitos por Mallas\n",
    "\n",
    "![Circuito Mallas](img/malla02.png)\n",
    "\n",
    "Tomado de: Elaboración propia\n",
    "\n",
    "1. Malla: Una malla es todo aquel camino cerrado por el cuál circulan corrientes eléctricas, la malla está conformada por varios elementos activos y pasivos conectados entre sí.\n",
    "\n",
    "2. Corriente de malla: Una vez definidas las mallas en los circuitos eléctricos, se ubican en cada malla corrientes de análisis (malla) que tendrán un sentido de circulación seleccionado por la persona que realiza el análisis."
   ]
  },
  {
   "cell_type": "markdown",
   "id": "d95b869c",
   "metadata": {},
   "source": [
    "## Ejemplo 1 - Solución general\n",
    "\n",
    "## Paso 1: Definir las mallas\n",
    "\n",
    "Se observa en el circuito que las corrientes $I_1, I_2$ corresponden a las corrientes que circulan por las mallas respectivas de la figura 1. Se asumen las fuentes independientes como conocidas ($V_s, I_s$), así como los elementos pasivos, por tanto las incógnitas del ejercicio son las corrientes de malla."
   ]
  },
  {
   "cell_type": "markdown",
   "id": "91a0924a",
   "metadata": {},
   "source": [
    "## Paso 2: Aplicar Ley de voltajes de Kirchhoff en cada malla\n",
    "\n",
    "Consiste en escribir una ecuaciòn de sumas de voltajes presentes en cada malla. Para este caso se tiene qué:\n",
    "\n",
    "### Malla de $I_1$:\n",
    "\n",
    "1. Ley de voltajes en Malla $I_1$:\n",
    "\n",
    "$$R_3I_1+R_2(I_1+I_2)+R_4(I_1-I_s) = 0$$\n",
    "\n",
    "2. Agrupando variables y despejando términos conocidos:\n",
    "\n",
    "$$(R_2+R_3+R_4)I_1+R_2I_2 = R_4I_s$$\n",
    "\n",
    "### Malla de $I_2$:\n",
    "\n",
    "1. LVK en la malla de $I_2$:\n",
    "\n",
    "$$R_1I_2+R_2(I_2+I_1) = V_s$$\n",
    "\n",
    "2. Agrupando variables y despejando términos conocidos:\n",
    "\n",
    "$$R_2I_1+(R_1+R_2)I_2=V_s$$\n",
    "\n",
    "Recordar que las incógnitas del sistema son las corrientes de malla y que las resistencias como las fuentes independientes son conocidas. De cada malla se obtiene una ecuación, para este ejemplo particular la resultante es un conjunto de ecuaciones de 2x2:\n",
    "\n",
    "### Sistema de ecuaciones:\n",
    " \n",
    "$$(R_2+R_3+R_4)I_1+R_2I_2 = R_4I_s$$\n",
    "\n",
    "$$R_2I_1+(R_1+R_2)I_2=V_s$$"
   ]
  },
  {
   "cell_type": "markdown",
   "id": "e7000681",
   "metadata": {},
   "source": [
    "## Paso 3: Resolver el sistema lineal de ecuaciones sustitución\n",
    "\n",
    "Para este ejemplo se usa el método de la sustitución así:\n",
    "\n",
    "1. Despejar $I_1$ de la segunda ecuación:\n",
    "$$I_1= \\frac{V_s - (R_1+R_2)I_2}{R_2}$$\n",
    "\n",
    "2. Sustituir $I_1$ en la primera ecuación:\n",
    "$$(R_2+R_3+R_4)I_1+R_2I_2 = R_4I_s$$\n",
    "\n",
    "$$(R_2+R_3+R_4)\\left(\\frac{V_s - (R_1+R_2)I_2}{R_2}\\right)+R_2I_2 = R_4I_s$$\n",
    "\n",
    "3. La expresión resultante solo tiene como incógnita a $I_2$, se debe despejar:\n",
    "\n",
    "$$\\left(\\frac{-(R_2+R_3+R_4)(R_1+R_2)}{R_2}\\right)I_2+R_2I_2 = R_4I_s - \\left(\\frac{(R_2+R_3+R_4)V_s}{R_2}\\right)$$\n",
    "\n",
    "$$\\left(R_2 - \\frac{(R_2+R_3+R_4)(R_1+R_2)}{R_2}\\right)I_2 = R_4I_s - \\left(\\frac{(R_2+R_3+R_4)V_s}{R_2}\\right)$$\n",
    "\n",
    "Se pueden usar variables de apoyo para las expresiones grandes, por ejemplo:\n",
    "\n",
    "$$B = \\left(R_2 - \\frac{(R_2+R_3+R_4)(R_1+R_2)}{R_2}\\right)$$\n",
    "\n",
    "$$A = \\left(\\frac{(R_2+R_3+R_4)V_s}{R_2}\\right)$$\n",
    "\n",
    "Finalmente despejamos $I_2$ así:\n",
    "\n",
    "$$I_2 = \\frac{R_4I_s - A}{B}$$\n",
    "\n",
    "4. Una vez encontrado el valor de $I_2$ se puede sustituir en la expresión del numeral 1 para encontrar $I_1$\n",
    "\n",
    "$$I_1= \\frac{V_s - (R_1+R_2)I_2}{R_2}$$"
   ]
  },
  {
   "cell_type": "markdown",
   "id": "05544d1e",
   "metadata": {},
   "source": [
    "## Configurando el programa\n",
    "\n",
    "Asignar valores de Resistencias y fuentes. Todos los valores en unidad base (amperios, voltios, ohmios). Los resultados de las corrientes de malla se darán en Amperios (A)."
   ]
  },
  {
   "cell_type": "code",
   "execution_count": 4,
   "id": "dfc46858",
   "metadata": {},
   "outputs": [],
   "source": [
    "## Elementos pasivos dar valor en ohmios siempre\n",
    "R1 = 5\n",
    "R2 = 8\n",
    "R3 = 3\n",
    "R4 = 4\n",
    "\n",
    "## Elementos activos, dar valor en unidad base (Amperios, Voltios)\n",
    "Vs = 8\n",
    "Is = 2"
   ]
  },
  {
   "cell_type": "code",
   "execution_count": 5,
   "id": "5f4b437e",
   "metadata": {},
   "outputs": [
    {
     "data": {
      "image/png": "[encoded data removed]",
      "text/latex": [
       "$\\displaystyle \\left( 0.305343511450382, \\  0.427480916030534\\right)$"
      ],
      "text/plain": [
       "(0.30534351145038174, 0.42748091603053434)"
      ]
     },
     "execution_count": 5,
     "metadata": {},
     "output_type": "execute_result"
    }
   ],
   "source": [
    "## Declarando las variables de apoyo A y B\n",
    "A = (R2+R3+R4)*Vs/R2\n",
    "B = R2-((R2+R3+R4)*(R1+R2)/R2)\n",
    "\n",
    "## Encontrando las corrientes\n",
    "I2 = (R4*Is - A)/B\n",
    "I1 = (Vs - (R1+R2)*I2)/R2\n",
    "\n",
    "I1, I2"
   ]
  },
  {
   "cell_type": "markdown",
   "id": "5568e368",
   "metadata": {},
   "source": [
    "## Resolver usando matrices simbólicas y de numpy\n",
    "\n",
    "### Sistema de ecuaciones:\n",
    " \n",
    "$$(R_2+R_3+R_4)I_1+R_2I_2 = R_4I_s$$\n",
    "\n",
    "$$R_2I_1+(R_1+R_2)I_2=V_s$$"
   ]
  },
  {
   "cell_type": "code",
   "execution_count": 9,
   "id": "39fa3b3a",
   "metadata": {},
   "outputs": [
    {
     "data": {
      "image/png": "[encoded data removed]",
      "text/latex": [
       "$\\displaystyle \\left\\{ I_{1} : \\frac{40}{131}, \\  I_{2} : \\frac{56}{131}\\right\\}$"
      ],
      "text/plain": [
       "⎧     40       56⎫\n",
       "⎨I₁: ───, I₂: ───⎬\n",
       "⎩    131      131⎭"
      ]
     },
     "execution_count": 9,
     "metadata": {},
     "output_type": "execute_result"
    }
   ],
   "source": [
    "## FORMA SIMBÓLICA\n",
    "\n",
    "I1,I2 = sym.symbols(\"I1,I2\")\n",
    "\n",
    "# Encontrar las ecuaciones en matemática simbólica\n",
    "\n",
    "e1 = (R2+R3+R4)*I1 + R2*I2 - (R4*Is)\n",
    "e2 = R2*I1 + (R2+R1)*I2 - Vs\n",
    "\n",
    "solucion1 = sym.solve([e1, e2], [I1,I2])\n",
    "\n",
    "solucion1"
   ]
  },
  {
   "cell_type": "code",
   "execution_count": 10,
   "id": "017d3c5c",
   "metadata": {},
   "outputs": [
    {
     "data": {
      "text/plain": [
       "array([[0.30534351],\n",
       "       [0.42748092]])"
      ]
     },
     "execution_count": 10,
     "metadata": {},
     "output_type": "execute_result"
    }
   ],
   "source": [
    "## FORMA MATRICIAL\n",
    "\n",
    "## Definir la matriz A y B\n",
    "\n",
    "A = np.array([[R2+R3+R4,R2],[R2,R2+R1]])\n",
    "B = np.array([[R4*Is],[Vs]])\n",
    "\n",
    "solucion2 = np.dot(np.linalg.inv(A),B)\n",
    "\n",
    "solucion2\n"
   ]
  },
  {
   "cell_type": "markdown",
   "id": "317c7d64",
   "metadata": {},
   "source": [
    "## Paso 4 - Verificando los resultados\n",
    "\n",
    "El circuito se puede verificar empleando algún simulador de los usados durante clase, en el notebook se podría validar la solución del sistema lineal de ecuaciones pero no la correcta solución del circuito eléctrico.\n",
    "\n",
    "[Simulación Proteus](simul/ejercicio.pdsprj)"
   ]
  },
  {
   "cell_type": "code",
   "execution_count": null,
   "id": "6f164697",
   "metadata": {},
   "outputs": [],
   "source": []
  }
 ],
 "metadata": {
  "kernelspec": {
   "display_name": "Python 3 (ipykernel)",
   "language": "python",
   "name": "python3"
  },
  "language_info": {
   "codemirror_mode": {
    "name": "ipython",
    "version": 3
   },
   "file_extension": ".py",
   "mimetype": "text/x-python",
   "name": "python",
   "nbconvert_exporter": "python",
   "pygments_lexer": "ipython3",
   "version": "3.10.9"
  }
 },
 "nbformat": 4,
 "nbformat_minor": 5
}
