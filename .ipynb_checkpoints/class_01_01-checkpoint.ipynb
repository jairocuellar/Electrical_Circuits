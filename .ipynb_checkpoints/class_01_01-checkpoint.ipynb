{
 "cells": [
  {
   "cell_type": "code",
   "execution_count": 8,
   "id": "59f44449",
   "metadata": {},
   "outputs": [],
   "source": [
    "from sympy import MatrixSymbol, Matrix, Identity\n",
    "\n",
    "import sympy as sym\n",
    "sym.init_printing()\n"
   ]
  },
  {
   "cell_type": "markdown",
   "id": "1e0682a7",
   "metadata": {},
   "source": [
    "# CIRCUITOS ELÉCTRICOS\n",
    "\n",
    "Profesor: Jairo Alberto Cuéllar Guarnizo  \n",
    "Programa: Ingeniería en Automatización y Control"
   ]
  },
  {
   "cell_type": "markdown",
   "id": "bea6436d",
   "metadata": {},
   "source": [
    "# Unidad 1 - Circuitos en serie  \n",
    "\n",
    "![Circuito Serie](img/00_serie.jpg)\n",
    "\n",
    "Tomado de: [Fuente](https://electronicaonline.net/wp-content/uploads/2020/05/circuito-en-serie.jpg)\n",
    "\n",
    "* En los circuitos en serie todos los elementos comparten la misma corriente (I).\n",
    "* **Ley de voltajes de Kirchhoff:** La sumatoria de los voltajes de las cargas es igual al voltaje que entrega la fuente.\n",
    "\\begin{equation}\n",
    "V_s = \\sum_{i = 1}^{n} V_i = V_1 + V_2 + ... + V_n\n",
    "\\end{equation}  \n",
    "* La resistencia equivalente del circuito corresponde a la suma del valor de resistencia de cada carga conectada en serie.\n",
    "\\begin{equation}\n",
    "V_s = V_1 + V_2 + ... + V_n\n",
    "\\end{equation}\n",
    "\\begin{equation}\n",
    "IR_{eq} = IR_1 + IR_2 + ... + IR_n\n",
    "\\end{equation} \n",
    "\\begin{equation}\n",
    "IR_{eq} = I(R_1+R_2+...+R_n)\n",
    "\\end{equation} \n",
    "\n",
    "Por comparación entonces la resistencia equivalente estará dada por:\n",
    "\n",
    "\\begin{equation}\n",
    "R_{eq} = R_1 + R_2 + ... + R_n\n",
    "\\end{equation} \n"
   ]
  },
  {
   "cell_type": "markdown",
   "id": "d95b869c",
   "metadata": {},
   "source": [
    "## Ejemplo 1 \n",
    "\n",
    "![Circuito Ejemplo](img/01_ejemplo.png)\n",
    "\n",
    "Fuente: [Elaboración propia]\n",
    "\n",
    "Determine el valor de cada resistencia del circuito si: $R_1 = 10R+50$, $R_2 = 86R$ y $R_3 = \\frac{(R_1+R_2)}{3}$, además encuentr el valor de la resistencia equivalente si el voltaje del circuito es de 40V y la corriente que circula de 0.5 mA. Calcule la potencia de cada carga y la potencia total del circuito."
   ]
  },
  {
   "cell_type": "markdown",
   "id": "e7000681",
   "metadata": {},
   "source": [
    "## Solución:\n",
    "\n",
    "**Paso 1:** \n",
    "\n",
    "Calculando la resistencia equivalente tendremos $R_{eq}=\\frac{V_s}{I}$, por tanto, $R_{eq}=\\frac{40 V}{0.5 mA} = 80 K\\Omega$"
   ]
  },
  {
   "cell_type": "code",
   "execution_count": 9,
   "id": "fea9881c",
   "metadata": {},
   "outputs": [
    {
     "data": {
      "image/png": "[encoded data removed]",
      "text/latex": [
       "$\\displaystyle 80000.0$"
      ],
      "text/plain": [
       "80000.0"
      ]
     },
     "execution_count": 9,
     "metadata": {},
     "output_type": "execute_result"
    }
   ],
   "source": [
    "## Solución\n",
    "\n",
    "i = 0.5e-3\n",
    "v = 40\n",
    "Rs = v/i\n",
    "Rs"
   ]
  },
  {
   "cell_type": "markdown",
   "id": "cd0193d9",
   "metadata": {},
   "source": [
    "**Paso 2:** \n",
    "\n",
    "Para determinar el valor de la variable R resolvemos la siguiente igualdad: $$R_{eq}=R_1+R_2+R_3$$\n",
    "$$10R+50+86R+\\frac{10R+50+86R}{3} = 80000$$"
   ]
  },
  {
   "cell_type": "code",
   "execution_count": 10,
   "id": "dfc46858",
   "metadata": {},
   "outputs": [
    {
     "data": {
      "image/png": "[encoded data removed]",
      "text/latex": [
       "$\\displaystyle 128 R - 79933.3333333333$"
      ],
      "text/plain": [
       "128⋅R - 79933.3333333333"
      ]
     },
     "execution_count": 10,
     "metadata": {},
     "output_type": "execute_result"
    }
   ],
   "source": [
    "R = sym.Symbol('R')\n",
    "\n",
    "R1 = 10*R+50\n",
    "R2 = 86*R\n",
    "R3 = (R1+R2)/3\n",
    "\n",
    "Req = R1+R2+R3-Rs\n",
    "Req"
   ]
  },
  {
   "cell_type": "code",
   "execution_count": 11,
   "id": "ac14e45f",
   "metadata": {},
   "outputs": [
    {
     "data": {
      "image/png": "[encoded data removed]",
      "text/latex": [
       "$\\displaystyle 624$"
      ],
      "text/plain": [
       "624"
      ]
     },
     "execution_count": 11,
     "metadata": {},
     "output_type": "execute_result"
    }
   ],
   "source": [
    "Rx = sym.solve(Req, R)\n",
    "Rx = int(Rx[0])\n",
    "Rx"
   ]
  },
  {
   "cell_type": "code",
   "execution_count": 12,
   "id": "87baeeda",
   "metadata": {},
   "outputs": [
    {
     "data": {
      "image/png": "[encoded data removed]",
      "text/latex": [
       "$\\displaystyle \\left( 6290, \\  53664, \\  19984.6666666667\\right)$"
      ],
      "text/plain": [
       "(6290, 53664, 19984.666666666668)"
      ]
     },
     "execution_count": 12,
     "metadata": {},
     "output_type": "execute_result"
    }
   ],
   "source": [
    "## Calculando las resistencias\n",
    "R1 = 10*Rx+50\n",
    "R2 = 86*Rx\n",
    "R3 = (R1+R2)/3\n",
    "\n",
    "R1, R2, R3"
   ]
  },
  {
   "cell_type": "code",
   "execution_count": 13,
   "id": "940f0496",
   "metadata": {},
   "outputs": [
    {
     "data": {
      "image/png": "[encoded data removed]",
      "text/latex": [
       "$\\displaystyle \\left( 0.0015725, \\  0.013416, \\  0.00499616666666667, \\  0.0199846666666667\\right)$"
      ],
      "text/plain": [
       "(0.0015725, 0.013415999999999999, 0.004996166666666667, 0.019984666666666664)"
      ]
     },
     "execution_count": 13,
     "metadata": {},
     "output_type": "execute_result"
    }
   ],
   "source": [
    "## Calculando las potencias del circuito\n",
    "\n",
    "p1 = i**2*R1\n",
    "p2 = i**2*R2\n",
    "p3 = i**2*R3\n",
    "\n",
    "## La potencia total se puede calcular sumando las 3 de las cargas o usando los datos de la fuente\n",
    "\n",
    "pt = p1+p2+p3\n",
    "\n",
    "p1, p2, p3, pt"
   ]
  },
  {
   "cell_type": "code",
   "execution_count": null,
   "id": "1fc05fad",
   "metadata": {},
   "outputs": [],
   "source": []
  }
 ],
 "metadata": {
  "kernelspec": {
   "display_name": "Python 3 (ipykernel)",
   "language": "python",
   "name": "python3"
  },
  "language_info": {
   "codemirror_mode": {
    "name": "ipython",
    "version": 3
   },
   "file_extension": ".py",
   "mimetype": "text/x-python",
   "name": "python",
   "nbconvert_exporter": "python",
   "pygments_lexer": "ipython3",
   "version": "3.10.9"
  }
 },
 "nbformat": 4,
 "nbformat_minor": 5
}
