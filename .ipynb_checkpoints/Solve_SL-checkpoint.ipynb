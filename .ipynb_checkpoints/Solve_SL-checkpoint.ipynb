{
 "cells": [
  {
   "cell_type": "code",
   "execution_count": 2,
   "id": "59f44449",
   "metadata": {},
   "outputs": [],
   "source": [
    "from sympy import MatrixSymbol, Matrix, Identity\n",
    "\n",
    "import sympy as sym\n",
    "sym.init_printing()\n",
    "import numpy as np\n"
   ]
  },
  {
   "cell_type": "markdown",
   "id": "1e0682a7",
   "metadata": {},
   "source": [
    "# CIRCUITOS ELÉCTRICOS\n",
    "\n",
    "Profesor: Jairo Alberto Cuéllar Guarnizo  \n",
    "Programa: Ingeniería en Automatización y Control"
   ]
  },
  {
   "cell_type": "markdown",
   "id": "bea6436d",
   "metadata": {},
   "source": [
    "# Sistema Lineal de Ecuaciones\n",
    "\n",
    "Una vez obtenido el sistema lineal de ecuaciones (por mallas o nodos):\n",
    "\n",
    "\\begin{equation}\n",
    "a_{11}x_1+a_{12}x_2+...+a_{1n}x_n = b_1\n",
    "\\end{equation}\n",
    "\\begin{equation}\n",
    "a_{21}x_1+a_{22}x_2+...+a_{2n}x_n = b_2\n",
    "\\end{equation}  \n",
    "\\begin{equation}\n",
    "...\n",
    "\\end{equation}\n",
    "\\begin{equation}\n",
    "a_{m1}x_1+a_{m2}x_2+...+a_{mn}x_n = b_m\n",
    "\\end{equation}"
   ]
  },
  {
   "cell_type": "markdown",
   "id": "e7000681",
   "metadata": {},
   "source": [
    "## Solución por matríz inversa:\n",
    "\n",
    "\\begin{equation}\n",
    "\\begin{bmatrix}\n",
    " a_{11}& a_{12} & ... &a_{1n}\\\\ \n",
    " a_{21}& a_{22} & ... &a_{2n}\\\\ \n",
    " .&.&.\\\\ \n",
    " a_{m1}& a_{m2} & ... &a_{mn}\\\\ \n",
    "\\end{bmatrix} \\begin{bmatrix}\n",
    " x_1\\\\x_2\\\\...\\\\x_n\n",
    "\\end{bmatrix} = \\begin{bmatrix}\n",
    " b_1\\\\b_2\\\\...\\\\b_m\n",
    "\\end{bmatrix}\n",
    "\\end{equation}\n",
    "\n",
    "Despejando el vector de incógnitas la operación sería:\n",
    "\n",
    "\\begin{equation}\n",
    "\\begin{bmatrix}\n",
    " x_1\\\\x_2\\\\...\\\\x_n\n",
    "\\end{bmatrix} = \\begin{bmatrix}\n",
    " a_{11}& a_{12} & ... &a_{1n}\\\\ \n",
    " a_{21}& a_{22} & ... &a_{2n}\\\\ \n",
    " .&.&.\\\\ \n",
    " a_{m1}& a_{m2} & ... &a_{mn}\\\\ \n",
    "\\end{bmatrix}^{-1}\\begin{bmatrix}\n",
    " b_1\\\\b_2\\\\...\\\\b_m\n",
    "\\end{bmatrix}\n",
    "\\end{equation}\n",
    "\n",
    "Si:\n",
    "\\begin{equation}\n",
    "A^{-1} = inv(A) = \n",
    "\\begin{bmatrix}\n",
    " a_{11}& a_{12} & ... &a_{1n}\\\\ \n",
    " a_{21}& a_{22} & ... &a_{2n}\\\\ \n",
    " .&.&.\\\\ \n",
    " a_{m1}& a_{m2} & ... &a_{mn}\\\\ \n",
    "\\end{bmatrix}^{-1}\n",
    "\\end{equation}\n"
   ]
  },
  {
   "cell_type": "code",
   "execution_count": 6,
   "id": "fea9881c",
   "metadata": {},
   "outputs": [
    {
     "data": {
      "text/plain": [
       "matrix([[-5.64516129],\n",
       "        [ 0.32258065],\n",
       "        [ 0.74193548]])"
      ]
     },
     "execution_count": 6,
     "metadata": {},
     "output_type": "execute_result"
    }
   ],
   "source": [
    "## Declarando solo las matrices de interés usando la librería numpy:\n",
    "A = np.matrix('1 2 0;0 -3 4;-1 2 5')\n",
    "b = np.matrix('-5;2;10')\n",
    "\n",
    "# np.getI(), método para calcular la inversa de la matriz.\n",
    "x = A.getI()*b\n",
    "x"
   ]
  },
  {
   "cell_type": "markdown",
   "id": "cd0193d9",
   "metadata": {},
   "source": [
    "## Usando matemática simbólica\n",
    "\n",
    "\\begin{equation}\n",
    "a_{11}x_1+a_{12}x_2+...+a_{1n}x_n = b_1\n",
    "\\end{equation}\n",
    "\\begin{equation}\n",
    "a_{21}x_1+a_{22}x_2+...+a_{2n}x_n = b_2\n",
    "\\end{equation}  \n",
    "\\begin{equation}\n",
    "...\n",
    "\\end{equation}\n",
    "\\begin{equation}\n",
    "a_{m1}x_1+a_{m2}x_2+...+a_{mn}x_n = b_m\n",
    "\\end{equation}\n",
    "\n",
    "El procedimiento es usar la librería sympy para declarar las ecuaciones lineales y resolverlas con el método sympy.linsolve()\n"
   ]
  },
  {
   "cell_type": "code",
   "execution_count": 4,
   "id": "dfc46858",
   "metadata": {},
   "outputs": [
    {
     "data": {
      "image/png": "[encoded data removed]",
      "text/latex": [
       "$\\displaystyle \\left\\{\\left( \\frac{131}{15}, \\  \\frac{19}{3}, \\  - \\frac{28}{15}\\right)\\right\\}$"
      ],
      "text/plain": [
       "⎧⎛131        -28 ⎞⎫\n",
       "⎨⎜───, 19/3, ────⎟⎬\n",
       "⎩⎝ 15         15 ⎠⎭"
      ]
     },
     "execution_count": 4,
     "metadata": {},
     "output_type": "execute_result"
    }
   ],
   "source": [
    "## Declarar tantas variables como se requieran, para el caso son Corrientes\n",
    "## y/o Voltajes\n",
    "\n",
    "x1, x2, x3, x4 = sym.symbols('x1 x2 x3 x4', real=True)\n",
    "\n",
    "## En la lista sl se debe ingresar las ecuaciones separadas por coma sin el igual\n",
    "## con el término independiente a la izquierda del igual.\n",
    "## si la ecuación es 3x1-7x2 = 5, se incluye es: 3*x1-7*x2-5\n",
    "## También se requiere la tupla b, donde se debe indicar las variables.\n",
    "\n",
    "sl = [3*x1-5*x2-4*x3-2,-1*x1-2*x3+5,-5*x1+8*x2-7]\n",
    "b = (x1,x2,x3)\n",
    "\n",
    "sym.linsolve(sl,b)"
   ]
  },
  {
   "cell_type": "code",
   "execution_count": null,
   "id": "a34c3b04",
   "metadata": {},
   "outputs": [],
   "source": []
  }
 ],
 "metadata": {
  "kernelspec": {
   "display_name": "Python 3 (ipykernel)",
   "language": "python",
   "name": "python3"
  },
  "language_info": {
   "codemirror_mode": {
    "name": "ipython",
    "version": 3
   },
   "file_extension": ".py",
   "mimetype": "text/x-python",
   "name": "python",
   "nbconvert_exporter": "python",
   "pygments_lexer": "ipython3",
   "version": "3.10.9"
  }
 },
 "nbformat": 4,
 "nbformat_minor": 5
}
