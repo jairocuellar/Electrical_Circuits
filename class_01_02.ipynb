{
 "cells": [
  {
   "cell_type": "code",
   "execution_count": 1,
   "id": "59f44449",
   "metadata": {},
   "outputs": [],
   "source": [
    "from sympy import MatrixSymbol, Matrix, Identity\n",
    "\n",
    "import sympy as sym\n",
    "sym.init_printing()"
   ]
  },
  {
   "cell_type": "markdown",
   "id": "1e0682a7",
   "metadata": {},
   "source": [
    "# CIRCUITOS ELÉCTRICOS\n",
    "\n",
    "Profesor: Jairo Alberto Cuéllar Guarnizo  \n",
    "Programa: Ingeniería en Automatización y Control"
   ]
  },
  {
   "cell_type": "markdown",
   "id": "bea6436d",
   "metadata": {},
   "source": [
    "# Unidad 1 - Circuitos en paralelo\n",
    "\n",
    "![Circuito Paralelo](img/paralelo.svg)\n",
    "\n",
    "Tomado de: [Fuente](https://cdn.kastatic.org/ka-perseus-images/81e69fddbb8969ce2198323da888a753ef7560b0.png)\n",
    "\n",
    "* En los circuitos en paralelo todos los elementos comparten el mismo voltaje (V).\n",
    "* **Ley de corrientes de Kirchhoff:** La sumatoria de las corrientes de las cargas es igual a la corriente que entrega la fuente.\n",
    "\\begin{equation}\n",
    "I_s = \\sum_{i = 1}^{n} I_i = I_1 + I_2 + ... + I_n\n",
    "\\end{equation}  \n",
    "* La resistencia equivalente del circuito corresponde a la siguiente relación matemática:\n",
    "\\begin{equation}\n",
    "I_s = I_1 + I_2 + ... + I_n\n",
    "\\end{equation}\n",
    "\\begin{equation}\n",
    "\\frac{V}{R_{eq}} = \\frac{V}{R_1} + \\frac{V}{R_2} + ... + \\frac{V}{R_n}\n",
    "\\end{equation} \n",
    "\\begin{equation}\n",
    "\\frac{V}{R_{eq}} = \\left( \\frac{1}{R_1} + \\frac{1}{R_2} + ... + \\frac{1}{R_n} \\right) *V\n",
    "\\end{equation} \n",
    "\n",
    "Por comparación entonces la resistencia equivalente estará dada por:\n",
    "\n",
    "\\begin{equation}\n",
    "R_{eq} =\\frac{1}{\\frac{1}{R_1} + \\frac{1}{R_2} + ... + \\frac{1}{R_n}}\n",
    "\\end{equation} \n",
    "\n",
    "Para el caso especial de 2 resistencias en paralelo se tiene:\n",
    "\n",
    "\\begin{equation}\n",
    "R_{eq} =\\frac{1}{\\frac{1}{R_1} + \\frac{1}{R_2}}\n",
    "\\end{equation} \n",
    "\n",
    "\\begin{equation}\n",
    "R_{eq} =\\frac{R_1R_2}{R_1+R_2}\n",
    "\\end{equation} "
   ]
  },
  {
   "cell_type": "markdown",
   "id": "d95b869c",
   "metadata": {},
   "source": [
    "## Ejemplo 1 - Paralelo\n",
    "\n",
    "![Circuito Paralelo](img/02_ejemplo.png)\n",
    "\n",
    "Fuente: [Elaboración propia]\n",
    "\n",
    "Determine el valor de las resistencias del circuito en paralelo si estaS guardan la siguiente relación $ R_1 = 10R + 2$ y $ R_2 = 5R + 4$. Las resistencias están conectadas a una fuente de corriente de 2mA y de voltaje 14V. Encuentre el valor de las corrientes en cada rama. Encuentre el valor de la potencia en cada resistencia. El valor \"R\" es un valor en común entre las 2 resistencias y se debe encontrar para poder hallar R1 y R2"
   ]
  },
  {
   "cell_type": "markdown",
   "id": "e7000681",
   "metadata": {},
   "source": [
    "## Solución:\n",
    "\n",
    "**Paso 1:** \n",
    "\n",
    "Calculando la resistencia equivalente tendremos $R_{eq}=\\frac{V_s}{I}$, por tanto, $R_{eq}=\\frac{14 V}{2 mA} = 7 K\\Omega$"
   ]
  },
  {
   "cell_type": "code",
   "execution_count": 8,
   "id": "fea9881c",
   "metadata": {},
   "outputs": [
    {
     "data": {
      "image/png": "[encoded data removed]",
      "text/latex": [
       "$\\displaystyle 7000.0$"
      ],
      "text/plain": [
       "7000.0"
      ]
     },
     "execution_count": 8,
     "metadata": {},
     "output_type": "execute_result"
    }
   ],
   "source": [
    "## Solución\n",
    "\n",
    "i = 2e-3\n",
    "v = 14\n",
    "Rp = v/i\n",
    "Rp"
   ]
  },
  {
   "cell_type": "markdown",
   "id": "cd0193d9",
   "metadata": {},
   "source": [
    "**Paso 2:** \n",
    "\n",
    "Para determinar el valor de la variable R resolvemos la siguiente igualdad:\n",
    "\n",
    "\\begin{equation}\n",
    "R_{eq}=\\frac{1}{\\frac{1}{10R + 2}+\\frac{1}{5R + 4}} = 7000\n",
    "\\end{equation}\n",
    "\n"
   ]
  },
  {
   "cell_type": "code",
   "execution_count": 9,
   "id": "dfc46858",
   "metadata": {},
   "outputs": [
    {
     "data": {
      "image/png": "[encoded data removed]",
      "text/latex": [
       "$\\displaystyle \\frac{50.0 R^{2} - 104950.0 R - 41992.0}{15.0 R + 6.0}$"
      ],
      "text/plain": [
       "      2                       \n",
       "50.0⋅R  - 104950.0⋅R - 41992.0\n",
       "──────────────────────────────\n",
       "         15.0⋅R + 6.0         "
      ]
     },
     "execution_count": 9,
     "metadata": {},
     "output_type": "execute_result"
    }
   ],
   "source": [
    "R = sym.Symbol('R')\n",
    "\n",
    "R1 = 10*R+2\n",
    "R2 = 5*R+4\n",
    "\n",
    "Req = 1/(1/R1+1/R2)-Rp\n",
    "Req.simplify()"
   ]
  },
  {
   "cell_type": "code",
   "execution_count": 10,
   "id": "ac14e45f",
   "metadata": {},
   "outputs": [
    {
     "data": {
      "image/png": "[encoded data removed]",
      "text/latex": [
       "$\\displaystyle \\left[ -0.400038098865867, \\  2099.40003809887\\right]$"
      ],
      "text/plain": [
       "[-0.400038098865867, 2099.40003809887]"
      ]
     },
     "execution_count": 10,
     "metadata": {},
     "output_type": "execute_result"
    }
   ],
   "source": [
    "# Como es una cuadratica necesitamos ver si los valores son reales positivos.\n",
    "Rx = sym.solve(Req, R)\n",
    "Rx"
   ]
  },
  {
   "cell_type": "code",
   "execution_count": 11,
   "id": "87baeeda",
   "metadata": {},
   "outputs": [
    {
     "data": {
      "image/png": "[encoded data removed]",
      "text/latex": [
       "$\\displaystyle \\left( 20996.0003809887, \\  10501.0001904943\\right)$"
      ],
      "text/plain": [
       "(20996.00038098866, 10501.00019049433)"
      ]
     },
     "execution_count": 11,
     "metadata": {},
     "output_type": "execute_result"
    }
   ],
   "source": [
    "Rx = float(Rx[1])\n",
    "## Calculando las resistencias\n",
    "R1 = 10*Rx+2\n",
    "R2 = 5*Rx+4\n",
    "\n",
    "R1, R2"
   ]
  },
  {
   "cell_type": "markdown",
   "id": "e110843f",
   "metadata": {},
   "source": [
    "**Paso 3:** \n",
    "\n",
    "Se va a encontrar el valor de la corriente que circuila por cada resistencia aplicando las fórmulas del divisor de corriente:\n",
    "\n",
    "\\begin{equation}\n",
    "I_1=\\frac{I_s * R_2}{R_1 + R_2}\n",
    "\\end{equation}\n",
    "\n",
    "\\begin{equation}\n",
    "I_2=\\frac{I_s * R_1}{R_1 + R_2}\n",
    "\\end{equation}"
   ]
  },
  {
   "cell_type": "code",
   "execution_count": 12,
   "id": "940f0496",
   "metadata": {},
   "outputs": [
    {
     "data": {
      "image/png": "[encoded data removed]",
      "text/latex": [
       "$\\displaystyle \\left( 0.000666793662886225, \\  0.00133320633711378\\right)$"
      ],
      "text/plain": [
       "(0.0006667936628862248, 0.001333206337113775)"
      ]
     },
     "execution_count": 12,
     "metadata": {},
     "output_type": "execute_result"
    }
   ],
   "source": [
    "## Calculando las corrientes\n",
    "\n",
    "i1 = i*R2/(R1+R2)\n",
    "i2 = i*R1/(R1+R2)\n",
    "\n",
    "i1, i2"
   ]
  },
  {
   "cell_type": "code",
   "execution_count": 13,
   "id": "ed8af4b4",
   "metadata": {},
   "outputs": [
    {
     "data": {
      "image/png": "[encoded data removed]",
      "text/latex": [
       "$\\displaystyle \\left( 0.00933511128040715, \\  0.0186648887195929, \\  0.028\\right)$"
      ],
      "text/plain": [
       "(0.009335111280407147, 0.01866488871959285, 0.027999999999999997)"
      ]
     },
     "execution_count": 13,
     "metadata": {},
     "output_type": "execute_result"
    }
   ],
   "source": [
    "## Calculando las potencias del circuito\n",
    "\n",
    "p1 = i1*v\n",
    "p2 = i2*v\n",
    "\n",
    "## La potencia total se puede calcular sumando las 2 de las cargas o usando los datos de la fuente\n",
    "\n",
    "pt = p1+p2\n",
    "p1, p2, pt"
   ]
  },
  {
   "cell_type": "code",
   "execution_count": null,
   "id": "30bd3c33",
   "metadata": {},
   "outputs": [],
   "source": []
  }
 ],
 "metadata": {
  "kernelspec": {
   "display_name": "Python 3 (ipykernel)",
   "language": "python",
   "name": "python3"
  },
  "language_info": {
   "codemirror_mode": {
    "name": "ipython",
    "version": 3
   },
   "file_extension": ".py",
   "mimetype": "text/x-python",
   "name": "python",
   "nbconvert_exporter": "python",
   "pygments_lexer": "ipython3",
   "version": "3.10.9"
  }
 },
 "nbformat": 4,
 "nbformat_minor": 5
}
