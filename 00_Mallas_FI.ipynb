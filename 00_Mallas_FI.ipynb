{
 "cells": [
  {
   "cell_type": "code",
   "execution_count": 1,
   "id": "59f44449",
   "metadata": {},
   "outputs": [],
   "source": [
    "import sympy as sym\n",
    "from sympy import MatrixSymbol, Matrix, Identity\n",
    "sym.init_printing()\n",
    "%matplotlib inline\n",
    "\n",
    "import numpy as np\n",
    "\n",
    "\n"
   ]
  },
  {
   "cell_type": "markdown",
   "id": "1e0682a7",
   "metadata": {},
   "source": [
    "# CIRCUITOS ELÉCTRICOS\n",
    "\n",
    "Profesor: Jairo Alberto Cuéllar Guarnizo  \n",
    "Programa: Ingeniería en Automatización y Control"
   ]
  },
  {
   "cell_type": "markdown",
   "id": "bea6436d",
   "metadata": {},
   "source": [
    "# Análisis de Circuitos por Mallas\n",
    "\n",
    "![Circuito Mallas](img/malla01.png)\n",
    "\n",
    "Tomado de: Elaboración propia\n",
    "\n",
    "1. Malla: Una malla es todo aquel camino cerrado por el cuál circulan corrientes eléctricas, la malla está conformada por varios elementos activos y pasivos conectados entre sí.\n",
    "\n",
    "2. Corriente de malla: Una vez definidas las mallas en los circuitos eléctricos, se ubican en cada malla corrientes de análisis (malla) que tendrán un sentido de circulación seleccionado por la persona que realiza el análisis."
   ]
  },
  {
   "cell_type": "markdown",
   "id": "d95b869c",
   "metadata": {},
   "source": [
    "## Ejemplo 1 - Solución general\n",
    "\n",
    "## Paso 1: Definir las mallas\n",
    "\n",
    "Se observa en el circuito que las corrientes Ia, Ib e Ic corresponden a las corrientes que circulan por las mallas respectivas de la figura 1. Se asumen las fuentes independientes como conocidas ($V_1, I_1, V_2, V_3$), así como los elementos pasivos, por tanto las incógnitas del ejercicio son las corrientes de malla."
   ]
  },
  {
   "cell_type": "markdown",
   "id": "91a0924a",
   "metadata": {},
   "source": [
    "## Paso 2: Aplicar Ley de voltajes de Kirchhoff en cada malla\n",
    "\n",
    "Consiste en escribir una ecuaciòn de sumas de voltajes presentes en cada malla. Para este caso se tiene qué:\n",
    "\n",
    "### Malla de \"Ia\":\n",
    "\n",
    "1. Ley de voltajes en Malla Ia:\n",
    "\n",
    "$$R_1I_a + R_3(I_a - I_b) + R_4(I_a + I_1) - V_1 = 0$$\n",
    "\n",
    "2. Agrupando variables y despejando términos conocidos:\n",
    "\n",
    "$$(R_1+R_3+R_4)I_a - R_3I_b = V_1-R_4I_1 $$\n",
    "\n",
    "### Malla de \"Ib\":\n",
    "\n",
    "1. LVK en la malla de Ib:\n",
    "\n",
    "$$R_5(I_b+I_c) + R_3(I_b-I_a) + R_2I_b - V_3 = 0$$\n",
    "\n",
    "2. Agrupando variables y despejando términos conocidos:\n",
    "\n",
    "$$-R_3I_a + (R_3+R_5+R_2)I_b + R_5I_c = V_3$$\n",
    "\n",
    "### Malla de \"Ic\":\n",
    "\n",
    "1. LVK en la malla de Ic:\n",
    "\n",
    "$$R_5(I_c+I_b)+R_6(I_c-I_1)+R_7I_c -V_2 = 0$$\n",
    "\n",
    "2. Agrupando variables y despejando términos conocidos:\n",
    "\n",
    "$$R_5I_b + (R_5+R_6+R_7)I_c = V_2+R_6I_1$$\n",
    "\n",
    "Recordar que las incógnitas del sistema son las corrientes de malla y que las resistencias como las fuentes independientes son conocidas. De cada malla se obtiene una ecuación, para este ejemplo particular la resultante es un conjunto de ecuaciones de 3x3:\n",
    "\n",
    "### Sistema de ecuaciones:\n",
    "\n",
    "$$(R_1+R_3+R_4)I_a - R_3I_b = V_1-R_4I_1$$\n",
    "\n",
    "$$-R_3I_a + (R_3+R_5+R_2)I_b + R_5I_c = V_3$$\n",
    "\n",
    "$$R_5I_b + (R_5+R_6+R_7)I_c = V_2+R_6I_1$$"
   ]
  },
  {
   "cell_type": "markdown",
   "id": "e7000681",
   "metadata": {},
   "source": [
    "## Paso 3: Resolver el sistema lineal de ecuaciones\n",
    "\n",
    "Se puede proceder a definir un sistema lineal de ecuaciones en forma matricial dado por:\n",
    "\n",
    "$$A.x = B$$\n",
    "\n",
    "Donde la matriz A para este ejemplo específico, estaría dada por:\n",
    "$$\n",
    "\\left( \\begin{matrix}R_1+R_3+R_4 & -R_3 & 0\\\\ -R_3 & R_3+R_5+R_2 & R_5\\\\ 0 & R_5 & R_5+R_6+R_7 \\end{matrix} \\right) * \\left( \\begin{matrix} I_a\\\\I_b\\\\I_b\\end{matrix} \\right) = \\left( \\begin{matrix} V_1-R_4I_1\\\\V_3\\\\V_2+R_6I_1\\end{matrix} \\right)\n",
    "$$\n",
    "\n"
   ]
  },
  {
   "cell_type": "markdown",
   "id": "05544d1e",
   "metadata": {},
   "source": [
    "## Configurando el programa\n",
    "\n",
    "Asignar valores de Resistencias y fuentes. Todos los valores en unidad base (amperios, voltios, ohmios). Los resultados de las corrientes de malla se darán en Amperios (A)."
   ]
  },
  {
   "cell_type": "code",
   "execution_count": 7,
   "id": "dfc46858",
   "metadata": {},
   "outputs": [],
   "source": [
    "## Elementos pasivos dar valor en ohmios siempre\n",
    "R1 = 3200\n",
    "R2 = 1500\n",
    "R3 = 2000\n",
    "R4 = 3154\n",
    "R5 = 4200\n",
    "R6 = 658\n",
    "R7 = 980\n",
    "\n",
    "## Elementos activos, dar valor en unidad base (Amperios, Voltios)\n",
    "V1 = 10\n",
    "V2 = 25\n",
    "V3 = 12\n",
    "I1 = 0.025"
   ]
  },
  {
   "cell_type": "markdown",
   "id": "7532f490",
   "metadata": {},
   "source": [
    "## Matemática simbólica\n",
    "\n",
    "Definir las variables simbólicas que para este caso son las corrientes de malla.\n",
    "Resolver el sistema lineal de ecuaciones."
   ]
  },
  {
   "cell_type": "code",
   "execution_count": 8,
   "id": "ac14e45f",
   "metadata": {},
   "outputs": [
    {
     "data": {
      "image/png": "[encoded data removed]",
      "text/latex": [
       "$\\displaystyle \\left\\{ Ia : -0.0101970823479657, \\  Ib : -0.00816821296745265, \\  Ic : 0.0129764464651081\\right\\}$"
      ],
      "text/plain": [
       "{Ia: -0.0101970823479657, Ib: -0.00816821296745265, Ic: 0.0129764464651081}"
      ]
     },
     "execution_count": 8,
     "metadata": {},
     "output_type": "execute_result"
    }
   ],
   "source": [
    "Ia,Ib,Ic = sym.symbols(\"Ia,Ib,Ic\")\n",
    "\n",
    "# Encontrar las ecuaciones en matemática simbólica\n",
    "\n",
    "e1 = (R1+R3+R4)*Ia - R3*Ib - (V1-R4*I1)\n",
    "e2 = -R3*Ia + (R2+R3+R5)*Ib + R5*Ic - V3\n",
    "e3 = R5*Ib + (R5+R6+R7)*Ic - (V2+R6*I1)\n",
    "\n",
    "solucion1 = sym.solve([e1, e2, e3], [Ia,Ib,Ic])\n",
    "\n",
    "solucion1"
   ]
  },
  {
   "cell_type": "markdown",
   "id": "87cf5b4a",
   "metadata": {},
   "source": [
    "## Usando matrices\n",
    "\n",
    "Definir la matriz de coeficientes A y la matriz independiente B.\n",
    "Resolver el sistema usando la solución trivial:\n",
    "\n",
    "$$ x = A^{-1}B$$"
   ]
  },
  {
   "cell_type": "code",
   "execution_count": 9,
   "id": "092d40c7",
   "metadata": {},
   "outputs": [
    {
     "data": {
      "text/plain": [
       "array([[-0.01019708],\n",
       "       [-0.00816821],\n",
       "       [ 0.01297645]])"
      ]
     },
     "execution_count": 9,
     "metadata": {},
     "output_type": "execute_result"
    }
   ],
   "source": [
    "## Definir la matriz A y B\n",
    "\n",
    "A = np.array([[R1+R3+R4,-R3,0],[-R3,R2+R3+R5,R5],[0, R5, R5+R6+R7]])\n",
    "B = np.array([[V1-R4*I1],[V3],[V2+R6*I1]])\n",
    "\n",
    "solucion2 = np.dot(np.linalg.inv(A),B)\n",
    "\n",
    "solucion2\n"
   ]
  },
  {
   "cell_type": "markdown",
   "id": "317c7d64",
   "metadata": {},
   "source": [
    "## Paso 4 - Verificando los resultados\n",
    "\n",
    "El circuito se puede verificar empleando algún simulador de los usados durante clase, en el notebook se podría validar la solución del sistema lineal de ecuaciones pero no la correcta solución del circuito eléctrico."
   ]
  },
  {
   "cell_type": "code",
   "execution_count": null,
   "id": "6f164697",
   "metadata": {},
   "outputs": [],
   "source": []
  }
 ],
 "metadata": {
  "kernelspec": {
   "display_name": "Python 3 (ipykernel)",
   "language": "python",
   "name": "python3"
  },
  "language_info": {
   "codemirror_mode": {
    "name": "ipython",
    "version": 3
   },
   "file_extension": ".py",
   "mimetype": "text/x-python",
   "name": "python",
   "nbconvert_exporter": "python",
   "pygments_lexer": "ipython3",
   "version": "3.10.9"
  }
 },
 "nbformat": 4,
 "nbformat_minor": 5
}
