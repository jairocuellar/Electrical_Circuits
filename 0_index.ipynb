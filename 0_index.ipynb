{
 "cells": [
  {
   "cell_type": "markdown",
   "id": "2ea66398",
   "metadata": {},
   "source": [
    "# CIRCUITOS ELÉCTRICOS\n",
    "\n",
    "- Contiene una colección de notebooks de [Jupyter](https://jupyter.org/) con notas y ejemplos con el contenido propuesto para el curso de **Circuitos Eléctricos**.\n",
    "\n",
    "- Estas notas fueron escritas por el profesor **Jairo Alberto Cuéllar Guarnizo**.\n",
    "\n",
    "- Los notebooks contienen código en [IPython 3](http://ipython.org/)."
   ]
  },
  {
   "cell_type": "markdown",
   "id": "5a75c51e",
   "metadata": {},
   "source": [
    "## Introducción\n",
    "\n",
    "- [Introducción a la programación con Python y Jupyter](intro\\PythonJupyter.ipynb)\n",
    "- [Cálculos en ingeniería con Sympy y Jupyter Notebooks](intro\\SympyJupyter.ipynb)\n",
    "- [Señales Estándar](intro\\SenalesEstandar.ipynb)"
   ]
  },
  {
   "cell_type": "markdown",
   "id": "bea6436d",
   "metadata": {},
   "source": [
    "## Unidad 1 - Circuitos Serie - Paralelo  \n",
    "\n",
    "* [Clase 1_1 - XXXXXXX](class_01_01.ipynb)"
   ]
  },
  {
   "cell_type": "markdown",
   "id": "6400430e",
   "metadata": {},
   "source": [
    "## Referencias"
   ]
  },
  {
   "cell_type": "code",
   "execution_count": null,
   "id": "1a87c34b",
   "metadata": {},
   "outputs": [],
   "source": []
  }
 ],
 "metadata": {
  "kernelspec": {
   "display_name": "Python 3 (ipykernel)",
   "language": "python",
   "name": "python3"
  },
  "language_info": {
   "codemirror_mode": {
    "name": "ipython",
    "version": 3
   },
   "file_extension": ".py",
   "mimetype": "text/x-python",
   "name": "python",
   "nbconvert_exporter": "python",
   "pygments_lexer": "ipython3",
   "version": "3.10.9"
  }
 },
 "nbformat": 4,
 "nbformat_minor": 5
}
